{
 "cells": [
  {
   "cell_type": "code",
   "execution_count": 48,
   "metadata": {},
   "outputs": [],
   "source": [
    "import numpy as np\n",
    "\n",
    "%matplotlib inline\n",
    "import matplotlib.pyplot as plt\n",
    "\n",
    "\n"
   ]
  },
  {
   "cell_type": "code",
   "execution_count": 49,
   "metadata": {},
   "outputs": [],
   "source": [
    "class ChessBoard :\n",
    "    def __init__(self):\n",
    "        self.grid = np.ones([8,8,3] , ) \n",
    "        for i in np.ndindex(8,8):\n",
    "            row = i[0]\n",
    "            col = i[1]\n",
    "            if (row + col)%2 == 1:\n",
    "                self.grid[row,col] = (0,0,0)\n",
    "\n",
    "    def add_red(self, row, col):\n",
    "        self.grid[row,col] = (1,0,0)\n",
    "\n",
    "    def add_blue(self, row, col):\n",
    "        self.grid[row,col] = (0,0,1)\n",
    "\n",
    "\n",
    "    def render(self):\n",
    "        plt.imshow(self.grid)\n",
    "\n",
    "    def is_under_attack(self):\n",
    "            red = 0\n",
    "            blue = 0\n",
    "            for i in np.ndindex(8,8):\n",
    "                if  np.all(self.grid[i] == [0, 0, 1.]):\n",
    "                    blue = i\n",
    "                if  np.all(self.grid[i] == [1, 0, 0]):\n",
    "                    red = i\n",
    "            \n",
    "            for i in red:\n",
    "                for j in blue:\n",
    "                    if i == j:\n",
    "                        return True \n",
    "\n",
    "            for i in range(7):\n",
    "                if red[0]+i == blue[0] and red[1]+i == blue[1]:\n",
    "                    return True\n",
    "                \n",
    "                if red[0]-i == blue[0] and red[1]-i == blue[1]:\n",
    "                    return True\n",
    "\n",
    "                if red[0]+i == blue[0] and red[1]-i == blue[1]:\n",
    "                    return True\n",
    "                \n",
    "                if red[0]-i == blue[0] and red[1]+i == blue[1]:\n",
    "                    return True\n",
    "            \n",
    "            return False\n",
    "                \n",
    "        # if self.add_red():\n",
    "        #     return true"
   ]
  },
  {
   "cell_type": "code",
   "execution_count": 50,
   "metadata": {},
   "outputs": [],
   "source": [
    "# chess_board = ChessBoard()\n",
    "# chess_board.add_blue(5,5)\n",
    "# chess_board.add_red(7,3)\n",
    "# print(chess_board.is_under_attack())\n",
    "# chess_board.render()\n",
    "# plt.show()"
   ]
  },
  {
   "cell_type": "code",
   "execution_count": 51,
   "metadata": {},
   "outputs": [
    {
     "data": {
      "image/png": "[encoded data removed]",
      "text/plain": [
       "<Figure size 432x288 with 1 Axes>"
      ]
     },
     "metadata": {
      "needs_background": "light"
     },
     "output_type": "display_data"
    }
   ],
   "source": [
    "def test_on_same_row():\n",
    "    \"\"\" in this test it will give true if the colors are in the same row and false if not \"\"\"\n",
    "    chess_board = ChessBoard()\n",
    "    chess_board.add_blue(5,5)\n",
    "    chess_board.add_red(5,3)\n",
    "    chess_board.render()\n",
    "    actual = chess_board.is_under_attack()\n",
    "    expected = True\n",
    "    assert actual == expected\n",
    "    \n",
    "test_on_same_row()\n"
   ]
  },
  {
   "cell_type": "code",
   "execution_count": 52,
   "metadata": {},
   "outputs": [
    {
     "data": {
      "image/png": "[encoded data removed]",
      "text/plain": [
       "<Figure size 432x288 with 1 Axes>"
      ]
     },
     "metadata": {
      "needs_background": "light"
     },
     "output_type": "display_data"
    }
   ],
   "source": [
    "def test_on_same_column():\n",
    "    \"\"\" in this test it will give true if the colors are in the same column and false if not \"\"\"\n",
    "    chess_board = ChessBoard()\n",
    "    chess_board.add_blue(1,3)\n",
    "    chess_board.add_red(5,3)\n",
    "    chess_board.render()\n",
    "    actual = chess_board.is_under_attack()\n",
    "    expected = True\n",
    "    assert actual == expected\n",
    "    \n",
    "test_on_same_column()"
   ]
  },
  {
   "cell_type": "code",
   "execution_count": 53,
   "metadata": {},
   "outputs": [
    {
     "data": {
      "image/png": "[encoded data removed]",
      "text/plain": [
       "<Figure size 432x288 with 1 Axes>"
      ]
     },
     "metadata": {
      "needs_background": "light"
     },
     "output_type": "display_data"
    }
   ],
   "source": [
    "def test_on_same_diagonal():\n",
    "    \"\"\" in this test it will give true if the colors are in the same diagonal and false if not \"\"\"\n",
    "    chess_board = ChessBoard()\n",
    "    chess_board.add_blue(0,4)\n",
    "    chess_board.add_red(3,1)\n",
    "    chess_board.render()\n",
    "    actual = chess_board.is_under_attack()\n",
    "    expected = True\n",
    "    assert actual == expected\n",
    "    \n",
    "test_on_same_diagonal()"
   ]
  },
  {
   "cell_type": "code",
   "execution_count": 54,
   "metadata": {},
   "outputs": [
    {
     "data": {
      "image/png": "[encoded data removed]",
      "text/plain": [
       "<Figure size 432x288 with 1 Axes>"
      ]
     },
     "metadata": {
      "needs_background": "light"
     },
     "output_type": "display_data"
    }
   ],
   "source": [
    "def test_no_coordinates():\n",
    "    \"\"\" in this test it will give true if the colors are in the same diagonal and false if not \"\"\"\n",
    "    chess_board = ChessBoard()\n",
    "    chess_board.add_blue(7,4)\n",
    "    chess_board.add_red(3,1)\n",
    "    chess_board.render()\n",
    "    actual = chess_board.is_under_attack()\n",
    "    expected = False\n",
    "    assert actual == expected\n",
    "    \n",
    "test_no_coordinates()"
   ]
  }
 ],
 "metadata": {
  "interpreter": {
   "hash": "55b876081547eada24cabb4ab5a936442973674e8cf57e339dabf0706e50e70a"
  },
  "kernelspec": {
   "display_name": "Python 3.8.10 64-bit ('.venv': poetry)",
   "language": "python",
   "name": "python3"
  },
  "language_info": {
   "codemirror_mode": {
    "name": "ipython",
    "version": 3
   },
   "file_extension": ".py",
   "mimetype": "text/x-python",
   "name": "python",
   "nbconvert_exporter": "python",
   "pygments_lexer": "ipython3",
   "version": "3.8.10"
  },
  "orig_nbformat": 4
 },
 "nbformat": 4,
 "nbformat_minor": 2
}
